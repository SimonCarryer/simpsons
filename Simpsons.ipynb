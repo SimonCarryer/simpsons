{
 "cells": [
  {
   "cell_type": "code",
   "execution_count": 144,
   "metadata": {
    "collapsed": true
   },
   "outputs": [],
   "source": [
    "import pandas as pd\n",
    "% matplotlib inline"
   ]
  },
  {
   "cell_type": "code",
   "execution_count": 3,
   "metadata": {
    "collapsed": true
   },
   "outputs": [],
   "source": [
    "import urllib\n",
    "import time\n",
    "from bs4 import BeautifulSoup\n"
   ]
  },
  {
   "cell_type": "code",
   "execution_count": 128,
   "metadata": {
    "collapsed": false
   },
   "outputs": [
    {
     "name": "stdout",
     "output_type": "stream",
     "text": [
      "Season: 21\n",
      "  Episode: 1\n",
      "  Episode: 2\n",
      "  Episode: 3\n",
      "  Episode: 4\n",
      "  Episode: 5\n",
      "  Episode: 6\n",
      "  Episode: 7\n",
      "  Episode: 8\n",
      "  Episode: 9\n",
      "  Episode: 10\n",
      "  Episode: 11\n",
      "  Episode: 12\n",
      "  Episode: 13\n",
      "  Episode: 14\n",
      "  Episode: 15\n",
      "  Episode: 16\n",
      "  Episode: 17\n",
      "  Episode: 18\n",
      "  Episode: 19\n",
      "  Episode: 20\n",
      "  Episode: 21\n",
      "  Episode: 22\n",
      "  Episode: 23\n",
      "Season: 22\n",
      "  Episode: 1\n",
      "  Episode: 2\n",
      "  Episode: 3\n",
      "  Episode: 4\n",
      "  Episode: 5\n",
      "  Episode: 6\n",
      "  Episode: 7\n",
      "  Episode: 8\n",
      "  Episode: 9\n",
      "  Episode: 10\n",
      "  Episode: 11\n",
      "  Episode: 12\n",
      "  Episode: 13\n",
      "  Episode: 14\n",
      "  Episode: 15\n",
      "  Episode: 16\n",
      "  Episode: 17\n",
      "  Episode: 18\n",
      "  Episode: 19\n",
      "  Episode: 20\n",
      "  Episode: 21\n",
      "  Episode: 22\n",
      "Season: 23\n",
      "  Episode: 1\n",
      "  Episode: 2\n",
      "  Episode: 3\n",
      "  Episode: 4\n",
      "  Episode: 5\n",
      "  Episode: 6\n",
      "  Episode: 7\n",
      "  Episode: 8\n",
      "  Episode: 9\n",
      "  Episode: 10\n",
      "  Episode: 11\n",
      "  Episode: 12\n",
      "  Episode: 13\n",
      "  Episode: 14\n",
      "  Episode: 15\n",
      "  Episode: 16\n",
      "  Episode: 17\n",
      "  Episode: 18\n",
      "  Episode: 19\n",
      "  Episode: 20\n",
      "  Episode: 21\n",
      "  Episode: 22\n",
      "Season: 24\n",
      "  Episode: 1\n",
      "  Episode: 2\n",
      "  Episode: 3\n",
      "  Episode: 4\n",
      "  Episode: 5\n",
      "  Episode: 6\n",
      "  Episode: 7\n",
      "  Episode: 8\n",
      "  Episode: 9\n",
      "  Episode: 10\n",
      "  Episode: 11\n",
      "  Episode: 12\n",
      "  Episode: 13\n",
      "  Episode: 14\n",
      "  Episode: 15\n",
      "  Episode: 16\n",
      "  Episode: 17\n",
      "  Episode: 18\n",
      "  Episode: 19\n",
      "  Episode: 20\n",
      "  Episode: 21\n",
      "  Episode: 22\n",
      "Season: 25\n",
      "  Episode: 1\n",
      "  Episode: 2\n",
      "  Episode: 3\n",
      "  Episode: 4\n",
      "  Episode: 5\n",
      "  Episode: 6\n",
      "  Episode: 7\n",
      "  Episode: 8\n",
      "  Episode: 9\n",
      "  Episode: 10\n",
      "  Episode: 11\n",
      "  Episode: 12\n",
      "  Episode: 13\n",
      "  Episode: 14\n",
      "  Episode: 15\n",
      "  Episode: 16\n",
      "  Episode: 17\n",
      "  Episode: 18\n",
      "  Episode: 19\n",
      "  Episode: 20\n",
      "  Episode: 21\n",
      "  Episode: 22\n",
      "Season: 26\n",
      "  Episode: 1\n",
      "  Episode: 2\n",
      "  Episode: 3\n",
      "  Episode: 4\n",
      "  Episode: 5\n",
      "  Episode: 6\n",
      "  Episode: 7\n",
      "  Episode: 8\n",
      "  Episode: 9\n",
      "  Episode: 10\n",
      "  Episode: 11\n",
      "  Episode: 12\n",
      "  Episode: 13\n",
      "  Episode: 14\n",
      "  Episode: 15\n",
      "  Episode: 16\n",
      "  Episode: 17\n",
      "  Episode: 18\n",
      "  Episode: 19\n",
      "  Episode: 20\n",
      "  Episode: 21\n",
      "  Episode: 22\n",
      "Season: 27\n",
      "  Episode: 1\n",
      "  Episode: 2\n",
      "  Episode: 3\n",
      "  Episode: 4\n",
      "  Episode: 5\n",
      "  Episode: 6\n",
      "  Episode: 7\n",
      "  Episode: 8\n",
      "  Episode: 9\n",
      "  Episode: 10\n",
      "  Episode: 11\n",
      "  Episode: 12\n",
      "  Episode: 13\n",
      "  Episode: 14\n",
      "  Episode: 15\n",
      "  Episode: 16\n",
      "  Episode: 17\n",
      "  Episode: 18\n",
      "  Episode: 19\n",
      "  Episode: 20\n",
      "  Episode: 21\n",
      "  Episode: 22\n",
      "Season: 28\n",
      "  Episode: 1\n",
      "  Episode: 2\n",
      "  Episode: 3\n",
      "  Episode: 4\n",
      "  Episode: 5\n",
      "  Episode: 6\n",
      "  Episode: 7\n",
      "  Episode: 8\n",
      "  Episode: 9\n",
      "  Episode: 10\n",
      "  Episode: 11\n",
      "  Episode: 12\n",
      "  Episode: 14\n",
      "  Episode: 15\n",
      "  Episode: 16\n",
      "  Episode: 17\n",
      "  Episode: 18\n",
      "  Episode: 19\n",
      "  Episode: 20\n",
      "  Episode: 21\n",
      "  Episode: 22\n"
     ]
    }
   ],
   "source": [
    "episodes2 = []  #Had to do a second pass as the connection timed out at one point. Could probably improve this.\n",
    "\n",
    "for season in range(21, 29):\n",
    "    url = 'http://www.imdb.com/title/tt0096697/episodes?season=' + str(season)\n",
    "    f = urllib.urlopen(url)\n",
    "    html = f.read()\n",
    "    soup = BeautifulSoup(html)\n",
    "    print 'Season: ' + str(season)\n",
    "    for episode in soup.find_all(class_='info'):\n",
    "        time.sleep(1)\n",
    "        episode_dict = {}\n",
    "        episode_dict['episode_number'] = episode.find(itemprop=\"episodeNumber\")['content']\n",
    "        print '  Episode: ' + str(episode_dict['episode_number'])\n",
    "        episode_dict['season'] = season\n",
    "        episode_dict['link'] = 'http://www.imdb.com' + episode.find(itemprop='name')['href']\n",
    "        episode_dict['title'] = episode.find(itemprop='name').text.strip()\n",
    "        episode_dict['episode_description'] = episode.find(class_='item_description').text.strip()\n",
    "        episode_dict['air_date'] = episode.find(class_='airdate').text.strip()\n",
    "        \n",
    "        ep_f = urllib.urlopen(episode_dict['link'])\n",
    "        ep_html = ep_f.read()\n",
    "        ep_soup = BeautifulSoup(ep_html)\n",
    "        episode_dict['rating'] = ep_soup.find(class_=\"imdbRating\").find(itemprop=\"ratingValue\").text\n",
    "        episode_dict['rating_count'] = ep_soup.find(class_=\"imdbRating\").find(itemprop=\"ratingCount\").text\n",
    "        episode_dict['writers'] = ' '.join([i.text.strip() for i in ep_soup.find_all(itemprop=\"creator\") if i['itemtype'] == 'http://schema.org/Person'])\n",
    "        episode_dict['director'] = ep_soup.find(itemprop=\"director\").find(itemprop=\"name\").text\n",
    "        episode_dict['storyline'] = ep_soup.find_all(itemprop=\"description\")[1].text.strip()\n",
    "        episodes2.append(episode_dict)"
   ]
  },
  {
   "cell_type": "code",
   "execution_count": 129,
   "metadata": {
    "collapsed": true
   },
   "outputs": [],
   "source": [
    "df2 = pd.DataFrame(episodes2)"
   ]
  },
  {
   "cell_type": "code",
   "execution_count": 125,
   "metadata": {
    "collapsed": false
   },
   "outputs": [],
   "source": [
    "df = pd.DataFrame(episodes)"
   ]
  },
  {
   "cell_type": "code",
   "execution_count": 132,
   "metadata": {
    "collapsed": false
   },
   "outputs": [],
   "source": [
    "df3 = pd.concat([df[df.season < 21], df2])"
   ]
  },
  {
   "cell_type": "code",
   "execution_count": 154,
   "metadata": {
    "collapsed": true
   },
   "outputs": [],
   "source": [
    "df3.index = range(len(df3))"
   ]
  },
  {
   "cell_type": "code",
   "execution_count": 141,
   "metadata": {
    "collapsed": false
   },
   "outputs": [],
   "source": [
    "df3.to_csv('simpsons_raw.csv', encoding = 'utf-8')"
   ]
  },
  {
   "cell_type": "code",
   "execution_count": 139,
   "metadata": {
    "collapsed": false
   },
   "outputs": [],
   "source": [
    "df3['rating'] = df3['rating'].astype('float')"
   ]
  },
  {
   "cell_type": "code",
   "execution_count": 237,
   "metadata": {
    "collapsed": false
   },
   "outputs": [
    {
     "data": {
      "image/png": "[encoded data removed]",
      "text/plain": [
       "<matplotlib.figure.Figure at 0x10ffc5750>"
      ]
     },
     "metadata": {},
     "output_type": "display_data"
    }
   ],
   "source": [
    "import matplotlib.pyplot as plt\n",
    "\n",
    "median = df3.groupby('season')['rating'].median()\n",
    "\n",
    "upper = df3.groupby('season')['rating'].quantile(q=0.75)\n",
    "lower = df3.groupby('season')['rating'].quantile(q=0.25)\n",
    "\n",
    "top = df3[['title', 'season', 'rating']].loc[df3['rating'].argsort()][::-1][:3]\n",
    "bottom = df3[['title', 'season', 'rating']].loc[df3['rating'].argsort()][:3]\n",
    "\n",
    "median.plot()\n",
    "\n",
    "axes = plt.gca()\n",
    "axes.set_ylim([4,10])\n",
    "\n",
    "plt.fill_between(means.index, lower.values, upper.values, alpha = 0.5)\n",
    "plt.ylabel('Rating', weight = 'bold')\n",
    "plt.xlabel('Season', weight = 'bold')\n",
    "\n",
    "i = 0\n",
    "for row in bottom.iterrows():\n",
    "    plt.plot(row[1].season, row[1].rating, 'o', color = 'blue')\n",
    "    plt.annotate('\"'+row[1].title+'\"', xy=(row[1].season, row[1].rating), xytext=(row[1].season -1 -(i*2), row[1].rating - 3 + i ),\n",
    "            arrowprops=dict(facecolor='black', shrink=0.05),\n",
    "                 horizontalalignment='center'\n",
    "            )\n",
    "    i += 0.05\n",
    "i = 0\n",
    "for row in top.iterrows():\n",
    "    plt.plot(row[1].season, row[1].rating, 'o', color = 'blue')\n",
    "    plt.annotate('\"'+row[1].title+'\"', xy=(row[1].season, row[1].rating), xytext=(row[1].season -1 +(i*3), row[1].rating + 1 + i),\n",
    "            arrowprops=dict(facecolor='black', shrink=0.05),\n",
    "                 horizontalalignment='center'\n",
    "            )\n",
    "    i += 0.8"
   ]
  },
  {
   "cell_type": "code",
   "execution_count": 240,
   "metadata": {
    "collapsed": false
   },
   "outputs": [
    {
     "data": {
      "text/plain": [
       "u'Matt Groening (created by), James L. Brooks (developed by)'"
      ]
     },
     "execution_count": 240,
     "metadata": {},
     "output_type": "execute_result"
    }
   ],
   "source": []
  },
  {
   "cell_type": "code",
   "execution_count": null,
   "metadata": {
    "collapsed": true
   },
   "outputs": [],
   "source": []
  }
 ],
 "metadata": {
  "kernelspec": {
   "display_name": "Python 2",
   "language": "python",
   "name": "python2"
  },
  "language_info": {
   "codemirror_mode": {
    "name": "ipython",
    "version": 2
   },
   "file_extension": ".py",
   "mimetype": "text/x-python",
   "name": "python",
   "nbconvert_exporter": "python",
   "pygments_lexer": "ipython2",
   "version": "2.7.9"
  }
 },
 "nbformat": 4,
 "nbformat_minor": 0
}
